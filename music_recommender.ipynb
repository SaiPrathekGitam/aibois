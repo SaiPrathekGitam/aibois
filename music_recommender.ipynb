{
 "cells": [
  {
   "cell_type": "markdown",
   "metadata": {},
   "source": [
    "# AI Tools Project"
   ]
  },
  {
   "cell_type": "markdown",
   "metadata": {},
   "source": [
    "explaination"
   ]
  },
  {
   "cell_type": "markdown",
   "metadata": {},
   "source": [
    "## Import Libraries"
   ]
  },
  {
   "cell_type": "code",
   "execution_count": 2,
   "metadata": {},
   "outputs": [],
   "source": [
    "import numpy as np \n",
    "import pandas as pd\n",
    "import matplotlib.pyplot as plt \n",
    "import seaborn as sns\n",
    "from sklearn.cluster import KMeans \n",
    "from sklearn.preprocessing import scale\n",
    "%matplotlib inline"
   ]
  },
  {
   "cell_type": "markdown",
   "metadata": {},
   "source": [
    "## Load The Data"
   ]
  },
  {
   "cell_type": "code",
   "execution_count": 3,
   "metadata": {},
   "outputs": [
    {
     "data": {
      "text/plain": [
       "(169909, 19)"
      ]
     },
     "execution_count": 3,
     "metadata": {},
     "output_type": "execute_result"
    }
   ],
   "source": [
    "df = pd.read_csv('data.csv')\n",
    "df.shape"
   ]
  },
  {
   "cell_type": "code",
   "execution_count": 3,
   "metadata": {},
   "outputs": [
    {
     "data": {
      "text/plain": [
       "Index(['acousticness', 'artists', 'danceability', 'duration_ms', 'energy',\n",
       "       'explicit', 'id', 'instrumentalness', 'key', 'liveness', 'loudness',\n",
       "       'mode', 'name', 'popularity', 'release_date', 'speechiness', 'tempo',\n",
       "       'valence', 'year'],\n",
       "      dtype='object')"
      ]
     },
     "execution_count": 3,
     "metadata": {},
     "output_type": "execute_result"
    }
   ],
   "source": [
    "df.columns"
   ]
  },
  {
   "cell_type": "markdown",
   "metadata": {},
   "source": [
    "## Understand The Data"
   ]
  },
  {
   "cell_type": "code",
   "execution_count": 4,
   "metadata": {},
   "outputs": [
    {
     "data": {
      "text/html": [
       "<div>\n",
       "<style scoped>\n",
       "    .dataframe tbody tr th:only-of-type {\n",
       "        vertical-align: middle;\n",
       "    }\n",
       "\n",
       "    .dataframe tbody tr th {\n",
       "        vertical-align: top;\n",
       "    }\n",
       "\n",
       "    .dataframe thead th {\n",
       "        text-align: right;\n",
       "    }\n",
       "</style>\n",
       "<table border=\"1\" class=\"dataframe\">\n",
       "  <thead>\n",
       "    <tr style=\"text-align: right;\">\n",
       "      <th></th>\n",
       "      <th>acousticness</th>\n",
       "      <th>artists</th>\n",
       "      <th>danceability</th>\n",
       "      <th>duration_ms</th>\n",
       "      <th>energy</th>\n",
       "      <th>explicit</th>\n",
       "      <th>id</th>\n",
       "      <th>instrumentalness</th>\n",
       "      <th>key</th>\n",
       "      <th>liveness</th>\n",
       "      <th>loudness</th>\n",
       "      <th>mode</th>\n",
       "      <th>name</th>\n",
       "      <th>popularity</th>\n",
       "      <th>release_date</th>\n",
       "      <th>speechiness</th>\n",
       "      <th>tempo</th>\n",
       "      <th>valence</th>\n",
       "      <th>year</th>\n",
       "    </tr>\n",
       "  </thead>\n",
       "  <tbody>\n",
       "    <tr>\n",
       "      <th>0</th>\n",
       "      <td>0.995</td>\n",
       "      <td>['Carl Woitschach']</td>\n",
       "      <td>0.708</td>\n",
       "      <td>158648</td>\n",
       "      <td>0.1950</td>\n",
       "      <td>0</td>\n",
       "      <td>6KbQ3uYMLKb5jDxLF7wYDD</td>\n",
       "      <td>0.563</td>\n",
       "      <td>10</td>\n",
       "      <td>0.1510</td>\n",
       "      <td>-12.428</td>\n",
       "      <td>1</td>\n",
       "      <td>Singende Bataillone 1. Teil</td>\n",
       "      <td>0</td>\n",
       "      <td>1928</td>\n",
       "      <td>0.0506</td>\n",
       "      <td>118.469</td>\n",
       "      <td>0.7790</td>\n",
       "      <td>1928</td>\n",
       "    </tr>\n",
       "    <tr>\n",
       "      <th>1</th>\n",
       "      <td>0.994</td>\n",
       "      <td>['Robert Schumann', 'Vladimir Horowitz']</td>\n",
       "      <td>0.379</td>\n",
       "      <td>282133</td>\n",
       "      <td>0.0135</td>\n",
       "      <td>0</td>\n",
       "      <td>6KuQTIu1KoTTkLXKrwlLPV</td>\n",
       "      <td>0.901</td>\n",
       "      <td>8</td>\n",
       "      <td>0.0763</td>\n",
       "      <td>-28.454</td>\n",
       "      <td>1</td>\n",
       "      <td>Fantasiestücke, Op. 111: Più tosto lento</td>\n",
       "      <td>0</td>\n",
       "      <td>1928</td>\n",
       "      <td>0.0462</td>\n",
       "      <td>83.972</td>\n",
       "      <td>0.0767</td>\n",
       "      <td>1928</td>\n",
       "    </tr>\n",
       "    <tr>\n",
       "      <th>2</th>\n",
       "      <td>0.604</td>\n",
       "      <td>['Seweryn Goszczyński']</td>\n",
       "      <td>0.749</td>\n",
       "      <td>104300</td>\n",
       "      <td>0.2200</td>\n",
       "      <td>0</td>\n",
       "      <td>6L63VW0PibdM1HDSBoqnoM</td>\n",
       "      <td>0.000</td>\n",
       "      <td>5</td>\n",
       "      <td>0.1190</td>\n",
       "      <td>-19.924</td>\n",
       "      <td>0</td>\n",
       "      <td>Chapter 1.18 - Zamek kaniowski</td>\n",
       "      <td>0</td>\n",
       "      <td>1928</td>\n",
       "      <td>0.9290</td>\n",
       "      <td>107.177</td>\n",
       "      <td>0.8800</td>\n",
       "      <td>1928</td>\n",
       "    </tr>\n",
       "    <tr>\n",
       "      <th>3</th>\n",
       "      <td>0.995</td>\n",
       "      <td>['Francisco Canaro']</td>\n",
       "      <td>0.781</td>\n",
       "      <td>180760</td>\n",
       "      <td>0.1300</td>\n",
       "      <td>0</td>\n",
       "      <td>6M94FkXd15sOAOQYRnWPN8</td>\n",
       "      <td>0.887</td>\n",
       "      <td>1</td>\n",
       "      <td>0.1110</td>\n",
       "      <td>-14.734</td>\n",
       "      <td>0</td>\n",
       "      <td>Bebamos Juntos - Instrumental (Remasterizado)</td>\n",
       "      <td>0</td>\n",
       "      <td>1928-09-25</td>\n",
       "      <td>0.0926</td>\n",
       "      <td>108.003</td>\n",
       "      <td>0.7200</td>\n",
       "      <td>1928</td>\n",
       "    </tr>\n",
       "    <tr>\n",
       "      <th>4</th>\n",
       "      <td>0.990</td>\n",
       "      <td>['Frédéric Chopin', 'Vladimir Horowitz']</td>\n",
       "      <td>0.210</td>\n",
       "      <td>687733</td>\n",
       "      <td>0.2040</td>\n",
       "      <td>0</td>\n",
       "      <td>6N6tiFZ9vLTSOIxkj8qKrd</td>\n",
       "      <td>0.908</td>\n",
       "      <td>11</td>\n",
       "      <td>0.0980</td>\n",
       "      <td>-16.829</td>\n",
       "      <td>1</td>\n",
       "      <td>Polonaise-Fantaisie in A-Flat Major, Op. 61</td>\n",
       "      <td>1</td>\n",
       "      <td>1928</td>\n",
       "      <td>0.0424</td>\n",
       "      <td>62.149</td>\n",
       "      <td>0.0693</td>\n",
       "      <td>1928</td>\n",
       "    </tr>\n",
       "  </tbody>\n",
       "</table>\n",
       "</div>"
      ],
      "text/plain": [
       "   acousticness                                   artists  danceability  \\\n",
       "0         0.995                       ['Carl Woitschach']         0.708   \n",
       "1         0.994  ['Robert Schumann', 'Vladimir Horowitz']         0.379   \n",
       "2         0.604                   ['Seweryn Goszczyński']         0.749   \n",
       "3         0.995                      ['Francisco Canaro']         0.781   \n",
       "4         0.990  ['Frédéric Chopin', 'Vladimir Horowitz']         0.210   \n",
       "\n",
       "   duration_ms  energy  explicit                      id  instrumentalness  \\\n",
       "0       158648  0.1950         0  6KbQ3uYMLKb5jDxLF7wYDD             0.563   \n",
       "1       282133  0.0135         0  6KuQTIu1KoTTkLXKrwlLPV             0.901   \n",
       "2       104300  0.2200         0  6L63VW0PibdM1HDSBoqnoM             0.000   \n",
       "3       180760  0.1300         0  6M94FkXd15sOAOQYRnWPN8             0.887   \n",
       "4       687733  0.2040         0  6N6tiFZ9vLTSOIxkj8qKrd             0.908   \n",
       "\n",
       "   key  liveness  loudness  mode  \\\n",
       "0   10    0.1510   -12.428     1   \n",
       "1    8    0.0763   -28.454     1   \n",
       "2    5    0.1190   -19.924     0   \n",
       "3    1    0.1110   -14.734     0   \n",
       "4   11    0.0980   -16.829     1   \n",
       "\n",
       "                                            name  popularity release_date  \\\n",
       "0                    Singende Bataillone 1. Teil           0         1928   \n",
       "1       Fantasiestücke, Op. 111: Più tosto lento           0         1928   \n",
       "2                 Chapter 1.18 - Zamek kaniowski           0         1928   \n",
       "3  Bebamos Juntos - Instrumental (Remasterizado)           0   1928-09-25   \n",
       "4    Polonaise-Fantaisie in A-Flat Major, Op. 61           1         1928   \n",
       "\n",
       "   speechiness    tempo  valence  year  \n",
       "0       0.0506  118.469   0.7790  1928  \n",
       "1       0.0462   83.972   0.0767  1928  \n",
       "2       0.9290  107.177   0.8800  1928  \n",
       "3       0.0926  108.003   0.7200  1928  \n",
       "4       0.0424   62.149   0.0693  1928  "
      ]
     },
     "execution_count": 4,
     "metadata": {},
     "output_type": "execute_result"
    }
   ],
   "source": [
    "df.head()"
   ]
  },
  {
   "cell_type": "code",
   "execution_count": 5,
   "metadata": {},
   "outputs": [
    {
     "name": "stdout",
     "output_type": "stream",
     "text": [
      "<class 'pandas.core.frame.DataFrame'>\n",
      "RangeIndex: 169909 entries, 0 to 169908\n",
      "Data columns (total 19 columns):\n",
      " #   Column            Non-Null Count   Dtype  \n",
      "---  ------            --------------   -----  \n",
      " 0   acousticness      169909 non-null  float64\n",
      " 1   artists           169909 non-null  object \n",
      " 2   danceability      169909 non-null  float64\n",
      " 3   duration_ms       169909 non-null  int64  \n",
      " 4   energy            169909 non-null  float64\n",
      " 5   explicit          169909 non-null  int64  \n",
      " 6   id                169909 non-null  object \n",
      " 7   instrumentalness  169909 non-null  float64\n",
      " 8   key               169909 non-null  int64  \n",
      " 9   liveness          169909 non-null  float64\n",
      " 10  loudness          169909 non-null  float64\n",
      " 11  mode              169909 non-null  int64  \n",
      " 12  name              169909 non-null  object \n",
      " 13  popularity        169909 non-null  int64  \n",
      " 14  release_date      169909 non-null  object \n",
      " 15  speechiness       169909 non-null  float64\n",
      " 16  tempo             169909 non-null  float64\n",
      " 17  valence           169909 non-null  float64\n",
      " 18  year              169909 non-null  int64  \n",
      "dtypes: float64(9), int64(6), object(4)\n",
      "memory usage: 24.6+ MB\n"
     ]
    }
   ],
   "source": [
    "df.info()"
   ]
  },
  {
   "cell_type": "code",
   "execution_count": 6,
   "metadata": {},
   "outputs": [
    {
     "data": {
      "text/html": [
       "<div>\n",
       "<style scoped>\n",
       "    .dataframe tbody tr th:only-of-type {\n",
       "        vertical-align: middle;\n",
       "    }\n",
       "\n",
       "    .dataframe tbody tr th {\n",
       "        vertical-align: top;\n",
       "    }\n",
       "\n",
       "    .dataframe thead th {\n",
       "        text-align: right;\n",
       "    }\n",
       "</style>\n",
       "<table border=\"1\" class=\"dataframe\">\n",
       "  <thead>\n",
       "    <tr style=\"text-align: right;\">\n",
       "      <th></th>\n",
       "      <th>acousticness</th>\n",
       "      <th>danceability</th>\n",
       "      <th>duration_ms</th>\n",
       "      <th>energy</th>\n",
       "      <th>explicit</th>\n",
       "      <th>instrumentalness</th>\n",
       "      <th>key</th>\n",
       "      <th>liveness</th>\n",
       "      <th>loudness</th>\n",
       "      <th>mode</th>\n",
       "      <th>popularity</th>\n",
       "      <th>speechiness</th>\n",
       "      <th>tempo</th>\n",
       "      <th>valence</th>\n",
       "      <th>year</th>\n",
       "    </tr>\n",
       "  </thead>\n",
       "  <tbody>\n",
       "    <tr>\n",
       "      <th>count</th>\n",
       "      <td>169909.000000</td>\n",
       "      <td>169909.000000</td>\n",
       "      <td>1.699090e+05</td>\n",
       "      <td>169909.000000</td>\n",
       "      <td>169909.000000</td>\n",
       "      <td>169909.000000</td>\n",
       "      <td>169909.000000</td>\n",
       "      <td>169909.000000</td>\n",
       "      <td>169909.000000</td>\n",
       "      <td>169909.000000</td>\n",
       "      <td>169909.000000</td>\n",
       "      <td>169909.000000</td>\n",
       "      <td>169909.000000</td>\n",
       "      <td>169909.000000</td>\n",
       "      <td>169909.000000</td>\n",
       "    </tr>\n",
       "    <tr>\n",
       "      <th>mean</th>\n",
       "      <td>0.493214</td>\n",
       "      <td>0.538150</td>\n",
       "      <td>2.314062e+05</td>\n",
       "      <td>0.488593</td>\n",
       "      <td>0.084863</td>\n",
       "      <td>0.161937</td>\n",
       "      <td>5.200519</td>\n",
       "      <td>0.206690</td>\n",
       "      <td>-11.370289</td>\n",
       "      <td>0.708556</td>\n",
       "      <td>31.556610</td>\n",
       "      <td>0.094058</td>\n",
       "      <td>116.948017</td>\n",
       "      <td>0.532095</td>\n",
       "      <td>1977.223231</td>\n",
       "    </tr>\n",
       "    <tr>\n",
       "      <th>std</th>\n",
       "      <td>0.376627</td>\n",
       "      <td>0.175346</td>\n",
       "      <td>1.213219e+05</td>\n",
       "      <td>0.267390</td>\n",
       "      <td>0.278679</td>\n",
       "      <td>0.309329</td>\n",
       "      <td>3.515257</td>\n",
       "      <td>0.176796</td>\n",
       "      <td>5.666765</td>\n",
       "      <td>0.454429</td>\n",
       "      <td>21.582614</td>\n",
       "      <td>0.149937</td>\n",
       "      <td>30.726937</td>\n",
       "      <td>0.262408</td>\n",
       "      <td>25.593168</td>\n",
       "    </tr>\n",
       "    <tr>\n",
       "      <th>min</th>\n",
       "      <td>0.000000</td>\n",
       "      <td>0.000000</td>\n",
       "      <td>5.108000e+03</td>\n",
       "      <td>0.000000</td>\n",
       "      <td>0.000000</td>\n",
       "      <td>0.000000</td>\n",
       "      <td>0.000000</td>\n",
       "      <td>0.000000</td>\n",
       "      <td>-60.000000</td>\n",
       "      <td>0.000000</td>\n",
       "      <td>0.000000</td>\n",
       "      <td>0.000000</td>\n",
       "      <td>0.000000</td>\n",
       "      <td>0.000000</td>\n",
       "      <td>1921.000000</td>\n",
       "    </tr>\n",
       "    <tr>\n",
       "      <th>25%</th>\n",
       "      <td>0.094500</td>\n",
       "      <td>0.417000</td>\n",
       "      <td>1.710400e+05</td>\n",
       "      <td>0.263000</td>\n",
       "      <td>0.000000</td>\n",
       "      <td>0.000000</td>\n",
       "      <td>2.000000</td>\n",
       "      <td>0.098400</td>\n",
       "      <td>-14.470000</td>\n",
       "      <td>0.000000</td>\n",
       "      <td>12.000000</td>\n",
       "      <td>0.034900</td>\n",
       "      <td>93.516000</td>\n",
       "      <td>0.322000</td>\n",
       "      <td>1957.000000</td>\n",
       "    </tr>\n",
       "    <tr>\n",
       "      <th>50%</th>\n",
       "      <td>0.492000</td>\n",
       "      <td>0.548000</td>\n",
       "      <td>2.086000e+05</td>\n",
       "      <td>0.481000</td>\n",
       "      <td>0.000000</td>\n",
       "      <td>0.000204</td>\n",
       "      <td>5.000000</td>\n",
       "      <td>0.135000</td>\n",
       "      <td>-10.474000</td>\n",
       "      <td>1.000000</td>\n",
       "      <td>33.000000</td>\n",
       "      <td>0.045000</td>\n",
       "      <td>114.778000</td>\n",
       "      <td>0.544000</td>\n",
       "      <td>1978.000000</td>\n",
       "    </tr>\n",
       "    <tr>\n",
       "      <th>75%</th>\n",
       "      <td>0.888000</td>\n",
       "      <td>0.667000</td>\n",
       "      <td>2.629600e+05</td>\n",
       "      <td>0.710000</td>\n",
       "      <td>0.000000</td>\n",
       "      <td>0.086800</td>\n",
       "      <td>8.000000</td>\n",
       "      <td>0.263000</td>\n",
       "      <td>-7.118000</td>\n",
       "      <td>1.000000</td>\n",
       "      <td>48.000000</td>\n",
       "      <td>0.075400</td>\n",
       "      <td>135.712000</td>\n",
       "      <td>0.749000</td>\n",
       "      <td>1999.000000</td>\n",
       "    </tr>\n",
       "    <tr>\n",
       "      <th>max</th>\n",
       "      <td>0.996000</td>\n",
       "      <td>0.988000</td>\n",
       "      <td>5.403500e+06</td>\n",
       "      <td>1.000000</td>\n",
       "      <td>1.000000</td>\n",
       "      <td>1.000000</td>\n",
       "      <td>11.000000</td>\n",
       "      <td>1.000000</td>\n",
       "      <td>3.855000</td>\n",
       "      <td>1.000000</td>\n",
       "      <td>100.000000</td>\n",
       "      <td>0.969000</td>\n",
       "      <td>244.091000</td>\n",
       "      <td>1.000000</td>\n",
       "      <td>2020.000000</td>\n",
       "    </tr>\n",
       "  </tbody>\n",
       "</table>\n",
       "</div>"
      ],
      "text/plain": [
       "        acousticness   danceability   duration_ms         energy  \\\n",
       "count  169909.000000  169909.000000  1.699090e+05  169909.000000   \n",
       "mean        0.493214       0.538150  2.314062e+05       0.488593   \n",
       "std         0.376627       0.175346  1.213219e+05       0.267390   \n",
       "min         0.000000       0.000000  5.108000e+03       0.000000   \n",
       "25%         0.094500       0.417000  1.710400e+05       0.263000   \n",
       "50%         0.492000       0.548000  2.086000e+05       0.481000   \n",
       "75%         0.888000       0.667000  2.629600e+05       0.710000   \n",
       "max         0.996000       0.988000  5.403500e+06       1.000000   \n",
       "\n",
       "            explicit  instrumentalness            key       liveness  \\\n",
       "count  169909.000000     169909.000000  169909.000000  169909.000000   \n",
       "mean        0.084863          0.161937       5.200519       0.206690   \n",
       "std         0.278679          0.309329       3.515257       0.176796   \n",
       "min         0.000000          0.000000       0.000000       0.000000   \n",
       "25%         0.000000          0.000000       2.000000       0.098400   \n",
       "50%         0.000000          0.000204       5.000000       0.135000   \n",
       "75%         0.000000          0.086800       8.000000       0.263000   \n",
       "max         1.000000          1.000000      11.000000       1.000000   \n",
       "\n",
       "            loudness           mode     popularity    speechiness  \\\n",
       "count  169909.000000  169909.000000  169909.000000  169909.000000   \n",
       "mean      -11.370289       0.708556      31.556610       0.094058   \n",
       "std         5.666765       0.454429      21.582614       0.149937   \n",
       "min       -60.000000       0.000000       0.000000       0.000000   \n",
       "25%       -14.470000       0.000000      12.000000       0.034900   \n",
       "50%       -10.474000       1.000000      33.000000       0.045000   \n",
       "75%        -7.118000       1.000000      48.000000       0.075400   \n",
       "max         3.855000       1.000000     100.000000       0.969000   \n",
       "\n",
       "               tempo        valence           year  \n",
       "count  169909.000000  169909.000000  169909.000000  \n",
       "mean      116.948017       0.532095    1977.223231  \n",
       "std        30.726937       0.262408      25.593168  \n",
       "min         0.000000       0.000000    1921.000000  \n",
       "25%        93.516000       0.322000    1957.000000  \n",
       "50%       114.778000       0.544000    1978.000000  \n",
       "75%       135.712000       0.749000    1999.000000  \n",
       "max       244.091000       1.000000    2020.000000  "
      ]
     },
     "execution_count": 6,
     "metadata": {},
     "output_type": "execute_result"
    }
   ],
   "source": [
    "df.describe()"
   ]
  },
  {
   "cell_type": "code",
   "execution_count": 7,
   "metadata": {},
   "outputs": [
    {
     "data": {
      "text/plain": [
       "acousticness        0\n",
       "artists             0\n",
       "danceability        0\n",
       "duration_ms         0\n",
       "energy              0\n",
       "explicit            0\n",
       "id                  0\n",
       "instrumentalness    0\n",
       "key                 0\n",
       "liveness            0\n",
       "loudness            0\n",
       "mode                0\n",
       "name                0\n",
       "popularity          0\n",
       "release_date        0\n",
       "speechiness         0\n",
       "tempo               0\n",
       "valence             0\n",
       "year                0\n",
       "dtype: int64"
      ]
     },
     "execution_count": 7,
     "metadata": {},
     "output_type": "execute_result"
    }
   ],
   "source": [
    "df.isna().sum()   "
   ]
  },
  {
   "cell_type": "markdown",
   "metadata": {},
   "source": [
    "## Univariate Analysis"
   ]
  },
  {
   "cell_type": "markdown",
   "metadata": {},
   "source": [
    "### Acousticness"
   ]
  },
  {
   "cell_type": "code",
   "execution_count": 11,
   "metadata": {},
   "outputs": [
    {
     "data": {
      "text/plain": [
       "<matplotlib.axes._subplots.AxesSubplot at 0xdd467c8>"
      ]
     },
     "execution_count": 11,
     "metadata": {},
     "output_type": "execute_result"
    },
    {
     "data": {
      "image/png": "[encoded data removed]",
      "text/plain": [
       "<Figure size 432x288 with 1 Axes>"
      ]
     },
     "metadata": {
      "needs_background": "light"
     },
     "output_type": "display_data"
    }
   ],
   "source": [
    "sns.distplot(df['acousticness'], kde=True)"
   ]
  },
  {
   "cell_type": "code",
   "execution_count": 12,
   "metadata": {},
   "outputs": [
    {
     "data": {
      "text/plain": [
       "<matplotlib.axes._subplots.AxesSubplot at 0xddb5f08>"
      ]
     },
     "execution_count": 12,
     "metadata": {},
     "output_type": "execute_result"
    },
    {
     "data": {
      "image/png": "[encoded data removed]",
      "text/plain": [
       "<Figure size 432x288 with 1 Axes>"
      ]
     },
     "metadata": {
      "needs_background": "light"
     },
     "output_type": "display_data"
    }
   ],
   "source": [
    "sns.distplot(df['danceability'], kde=True)"
   ]
  },
  {
   "cell_type": "code",
   "execution_count": 13,
   "metadata": {},
   "outputs": [
    {
     "data": {
      "text/plain": [
       "<matplotlib.axes._subplots.AxesSubplot at 0xdc4c6c8>"
      ]
     },
     "execution_count": 13,
     "metadata": {},
     "output_type": "execute_result"
    },
    {
     "data": {
      "image/png": "[encoded data removed]",
      "text/plain": [
       "<Figure size 432x288 with 1 Axes>"
      ]
     },
     "metadata": {
      "needs_background": "light"
     },
     "output_type": "display_data"
    }
   ],
   "source": [
    "sns.distplot(df['duration_ms'], kde=True)"
   ]
  },
  {
   "cell_type": "code",
   "execution_count": 14,
   "metadata": {},
   "outputs": [
    {
     "data": {
      "text/plain": [
       "<matplotlib.axes._subplots.AxesSubplot at 0xdb60f48>"
      ]
     },
     "execution_count": 14,
     "metadata": {},
     "output_type": "execute_result"
    },
    {
     "data": {
      "image/png": "[encoded data removed]",
      "text/plain": [
       "<Figure size 432x288 with 1 Axes>"
      ]
     },
     "metadata": {
      "needs_background": "light"
     },
     "output_type": "display_data"
    }
   ],
   "source": [
    "sns.distplot(df['energy'], kde=True)"
   ]
  },
  {
   "cell_type": "code",
   "execution_count": 15,
   "metadata": {},
   "outputs": [
    {
     "data": {
      "text/plain": [
       "<matplotlib.axes._subplots.AxesSubplot at 0xd81c088>"
      ]
     },
     "execution_count": 15,
     "metadata": {},
     "output_type": "execute_result"
    },
    {
     "data": {
      "image/png": "[encoded data removed]",
      "text/plain": [
       "<Figure size 432x288 with 1 Axes>"
      ]
     },
     "metadata": {
      "needs_background": "light"
     },
     "output_type": "display_data"
    }
   ],
   "source": [
    "sns.countplot(df['explicit'])"
   ]
  },
  {
   "cell_type": "code",
   "execution_count": 16,
   "metadata": {},
   "outputs": [
    {
     "data": {
      "text/plain": [
       "<matplotlib.axes._subplots.AxesSubplot at 0xc2a33c8>"
      ]
     },
     "execution_count": 16,
     "metadata": {},
     "output_type": "execute_result"
    },
    {
     "data": {
      "image/png": "[encoded data removed]",
      "text/plain": [
       "<Figure size 432x288 with 1 Axes>"
      ]
     },
     "metadata": {
      "needs_background": "light"
     },
     "output_type": "display_data"
    }
   ],
   "source": [
    "sns.distplot(df['instrumentalness'], kde=True)"
   ]
  },
  {
   "cell_type": "code",
   "execution_count": 17,
   "metadata": {},
   "outputs": [
    {
     "data": {
      "text/plain": [
       "<matplotlib.axes._subplots.AxesSubplot at 0xe009d88>"
      ]
     },
     "execution_count": 17,
     "metadata": {},
     "output_type": "execute_result"
    },
    {
     "data": {
      "image/png": "[encoded data removed]",
      "text/plain": [
       "<Figure size 432x288 with 1 Axes>"
      ]
     },
     "metadata": {
      "needs_background": "light"
     },
     "output_type": "display_data"
    }
   ],
   "source": [
    "sns.countplot(df['key'])"
   ]
  },
  {
   "cell_type": "code",
   "execution_count": 18,
   "metadata": {},
   "outputs": [
    {
     "data": {
      "text/plain": [
       "<matplotlib.axes._subplots.AxesSubplot at 0xe3de6c8>"
      ]
     },
     "execution_count": 18,
     "metadata": {},
     "output_type": "execute_result"
    },
    {
     "data": {
      "image/png": "[encoded data removed]",
      "text/plain": [
       "<Figure size 432x288 with 1 Axes>"
      ]
     },
     "metadata": {
      "needs_background": "light"
     },
     "output_type": "display_data"
    }
   ],
   "source": [
    "sns.distplot(df['liveness'], kde=True)"
   ]
  },
  {
   "cell_type": "code",
   "execution_count": 19,
   "metadata": {},
   "outputs": [
    {
     "data": {
      "text/plain": [
       "<matplotlib.axes._subplots.AxesSubplot at 0xe6ec2c8>"
      ]
     },
     "execution_count": 19,
     "metadata": {},
     "output_type": "execute_result"
    },
    {
     "data": {
      "image/png": "[encoded data removed]",
      "text/plain": [
       "<Figure size 432x288 with 1 Axes>"
      ]
     },
     "metadata": {
      "needs_background": "light"
     },
     "output_type": "display_data"
    }
   ],
   "source": [
    "sns.distplot(df['popularity'], kde=True)"
   ]
  },
  {
   "cell_type": "code",
   "execution_count": 20,
   "metadata": {},
   "outputs": [
    {
     "data": {
      "text/plain": [
       "<matplotlib.axes._subplots.AxesSubplot at 0xe7c2b08>"
      ]
     },
     "execution_count": 20,
     "metadata": {},
     "output_type": "execute_result"
    },
    {
     "data": {
      "image/png": "[encoded data removed]",
      "text/plain": [
       "<Figure size 432x288 with 1 Axes>"
      ]
     },
     "metadata": {
      "needs_background": "light"
     },
     "output_type": "display_data"
    }
   ],
   "source": [
    "sns.distplot(df['loudness'], kde=True)"
   ]
  },
  {
   "cell_type": "code",
   "execution_count": 21,
   "metadata": {},
   "outputs": [
    {
     "data": {
      "text/plain": [
       "<matplotlib.axes._subplots.AxesSubplot at 0xea994c8>"
      ]
     },
     "execution_count": 21,
     "metadata": {},
     "output_type": "execute_result"
    },
    {
     "data": {
      "image/png": "[encoded data removed]",
      "text/plain": [
       "<Figure size 432x288 with 1 Axes>"
      ]
     },
     "metadata": {
      "needs_background": "light"
     },
     "output_type": "display_data"
    }
   ],
   "source": [
    "sns.distplot(df['speechiness'], kde=True)"
   ]
  },
  {
   "cell_type": "code",
   "execution_count": 22,
   "metadata": {},
   "outputs": [
    {
     "data": {
      "text/plain": [
       "<matplotlib.axes._subplots.AxesSubplot at 0xeb79c88>"
      ]
     },
     "execution_count": 22,
     "metadata": {},
     "output_type": "execute_result"
    },
    {
     "data": {
      "image/png": "[encoded data removed]",
      "text/plain": [
       "<Figure size 432x288 with 1 Axes>"
      ]
     },
     "metadata": {
      "needs_background": "light"
     },
     "output_type": "display_data"
    }
   ],
   "source": [
    "sns.distplot(df['tempo'], kde=True)"
   ]
  },
  {
   "cell_type": "code",
   "execution_count": 23,
   "metadata": {},
   "outputs": [
    {
     "data": {
      "text/plain": [
       "<matplotlib.axes._subplots.AxesSubplot at 0xf268088>"
      ]
     },
     "execution_count": 23,
     "metadata": {},
     "output_type": "execute_result"
    },
    {
     "data": {
      "image/png": "[encoded data removed]",
      "text/plain": [
       "<Figure size 432x288 with 1 Axes>"
      ]
     },
     "metadata": {
      "needs_background": "light"
     },
     "output_type": "display_data"
    }
   ],
   "source": [
    "sns.distplot(df['valence'], kde=True)"
   ]
  },
  {
   "cell_type": "markdown",
   "metadata": {},
   "source": [
    "## Check features that are important"
   ]
  },
  {
   "cell_type": "code",
   "execution_count": 8,
   "metadata": {},
   "outputs": [
    {
     "data": {
      "text/html": [
       "<div>\n",
       "<style scoped>\n",
       "    .dataframe tbody tr th:only-of-type {\n",
       "        vertical-align: middle;\n",
       "    }\n",
       "\n",
       "    .dataframe tbody tr th {\n",
       "        vertical-align: top;\n",
       "    }\n",
       "\n",
       "    .dataframe thead th {\n",
       "        text-align: right;\n",
       "    }\n",
       "</style>\n",
       "<table border=\"1\" class=\"dataframe\">\n",
       "  <thead>\n",
       "    <tr style=\"text-align: right;\">\n",
       "      <th></th>\n",
       "      <th>acousticness</th>\n",
       "      <th>danceability</th>\n",
       "      <th>duration_ms</th>\n",
       "      <th>energy</th>\n",
       "      <th>explicit</th>\n",
       "      <th>instrumentalness</th>\n",
       "      <th>key</th>\n",
       "      <th>liveness</th>\n",
       "      <th>loudness</th>\n",
       "      <th>mode</th>\n",
       "      <th>popularity</th>\n",
       "      <th>speechiness</th>\n",
       "      <th>tempo</th>\n",
       "      <th>valence</th>\n",
       "      <th>year</th>\n",
       "    </tr>\n",
       "  </thead>\n",
       "  <tbody>\n",
       "    <tr>\n",
       "      <th>acousticness</th>\n",
       "      <td>1.000000</td>\n",
       "      <td>-0.265950</td>\n",
       "      <td>-0.079311</td>\n",
       "      <td>-0.750283</td>\n",
       "      <td>-0.253690</td>\n",
       "      <td>0.335821</td>\n",
       "      <td>-0.021686</td>\n",
       "      <td>-0.023871</td>\n",
       "      <td>-0.567072</td>\n",
       "      <td>0.046475</td>\n",
       "      <td>-0.593345</td>\n",
       "      <td>-0.056077</td>\n",
       "      <td>-0.204982</td>\n",
       "      <td>-0.185540</td>\n",
       "      <td>-0.624550</td>\n",
       "    </tr>\n",
       "    <tr>\n",
       "      <th>danceability</th>\n",
       "      <td>-0.265950</td>\n",
       "      <td>1.000000</td>\n",
       "      <td>-0.134500</td>\n",
       "      <td>0.220569</td>\n",
       "      <td>0.241891</td>\n",
       "      <td>-0.281429</td>\n",
       "      <td>0.022599</td>\n",
       "      <td>-0.105532</td>\n",
       "      <td>0.294170</td>\n",
       "      <td>-0.045306</td>\n",
       "      <td>0.221077</td>\n",
       "      <td>0.225305</td>\n",
       "      <td>-0.004872</td>\n",
       "      <td>0.560242</td>\n",
       "      <td>0.203430</td>\n",
       "    </tr>\n",
       "    <tr>\n",
       "      <th>duration_ms</th>\n",
       "      <td>-0.079311</td>\n",
       "      <td>-0.134500</td>\n",
       "      <td>1.000000</td>\n",
       "      <td>0.036396</td>\n",
       "      <td>-0.043811</td>\n",
       "      <td>0.084814</td>\n",
       "      <td>-0.003116</td>\n",
       "      <td>0.034270</td>\n",
       "      <td>-0.014687</td>\n",
       "      <td>-0.046981</td>\n",
       "      <td>0.063292</td>\n",
       "      <td>-0.058449</td>\n",
       "      <td>-0.028816</td>\n",
       "      <td>-0.198760</td>\n",
       "      <td>0.076293</td>\n",
       "    </tr>\n",
       "    <tr>\n",
       "      <th>energy</th>\n",
       "      <td>-0.750283</td>\n",
       "      <td>0.220569</td>\n",
       "      <td>0.036396</td>\n",
       "      <td>1.000000</td>\n",
       "      <td>0.142677</td>\n",
       "      <td>-0.287692</td>\n",
       "      <td>0.029984</td>\n",
       "      <td>0.126293</td>\n",
       "      <td>0.782982</td>\n",
       "      <td>-0.038355</td>\n",
       "      <td>0.497488</td>\n",
       "      <td>-0.045226</td>\n",
       "      <td>0.249936</td>\n",
       "      <td>0.350086</td>\n",
       "      <td>0.532419</td>\n",
       "    </tr>\n",
       "    <tr>\n",
       "      <th>explicit</th>\n",
       "      <td>-0.253690</td>\n",
       "      <td>0.241891</td>\n",
       "      <td>-0.043811</td>\n",
       "      <td>0.142677</td>\n",
       "      <td>1.000000</td>\n",
       "      <td>-0.138292</td>\n",
       "      <td>0.008578</td>\n",
       "      <td>0.039272</td>\n",
       "      <td>0.152695</td>\n",
       "      <td>-0.083221</td>\n",
       "      <td>0.214044</td>\n",
       "      <td>0.413074</td>\n",
       "      <td>0.011484</td>\n",
       "      <td>-0.022327</td>\n",
       "      <td>0.245227</td>\n",
       "    </tr>\n",
       "    <tr>\n",
       "      <th>instrumentalness</th>\n",
       "      <td>0.335821</td>\n",
       "      <td>-0.281429</td>\n",
       "      <td>0.084814</td>\n",
       "      <td>-0.287692</td>\n",
       "      <td>-0.138292</td>\n",
       "      <td>1.000000</td>\n",
       "      <td>-0.014268</td>\n",
       "      <td>-0.047397</td>\n",
       "      <td>-0.417033</td>\n",
       "      <td>-0.035051</td>\n",
       "      <td>-0.299829</td>\n",
       "      <td>-0.115735</td>\n",
       "      <td>-0.107570</td>\n",
       "      <td>-0.193929</td>\n",
       "      <td>-0.291571</td>\n",
       "    </tr>\n",
       "    <tr>\n",
       "      <th>key</th>\n",
       "      <td>-0.021686</td>\n",
       "      <td>0.022599</td>\n",
       "      <td>-0.003116</td>\n",
       "      <td>0.029984</td>\n",
       "      <td>0.008578</td>\n",
       "      <td>-0.014268</td>\n",
       "      <td>1.000000</td>\n",
       "      <td>-0.000106</td>\n",
       "      <td>0.021920</td>\n",
       "      <td>-0.112766</td>\n",
       "      <td>0.010675</td>\n",
       "      <td>0.015225</td>\n",
       "      <td>0.003148</td>\n",
       "      <td>0.029064</td>\n",
       "      <td>0.012503</td>\n",
       "    </tr>\n",
       "    <tr>\n",
       "      <th>liveness</th>\n",
       "      <td>-0.023871</td>\n",
       "      <td>-0.105532</td>\n",
       "      <td>0.034270</td>\n",
       "      <td>0.126293</td>\n",
       "      <td>0.039272</td>\n",
       "      <td>-0.047397</td>\n",
       "      <td>-0.000106</td>\n",
       "      <td>1.000000</td>\n",
       "      <td>0.052985</td>\n",
       "      <td>0.005393</td>\n",
       "      <td>-0.075293</td>\n",
       "      <td>0.147667</td>\n",
       "      <td>0.008124</td>\n",
       "      <td>-0.000426</td>\n",
       "      <td>-0.055839</td>\n",
       "    </tr>\n",
       "    <tr>\n",
       "      <th>loudness</th>\n",
       "      <td>-0.567072</td>\n",
       "      <td>0.294170</td>\n",
       "      <td>-0.014687</td>\n",
       "      <td>0.782982</td>\n",
       "      <td>0.152695</td>\n",
       "      <td>-0.417033</td>\n",
       "      <td>0.021920</td>\n",
       "      <td>0.052985</td>\n",
       "      <td>1.000000</td>\n",
       "      <td>-0.013147</td>\n",
       "      <td>0.466546</td>\n",
       "      <td>-0.105796</td>\n",
       "      <td>0.211114</td>\n",
       "      <td>0.308418</td>\n",
       "      <td>0.490118</td>\n",
       "    </tr>\n",
       "    <tr>\n",
       "      <th>mode</th>\n",
       "      <td>0.046475</td>\n",
       "      <td>-0.045306</td>\n",
       "      <td>-0.046981</td>\n",
       "      <td>-0.038355</td>\n",
       "      <td>-0.083221</td>\n",
       "      <td>-0.035051</td>\n",
       "      <td>-0.112766</td>\n",
       "      <td>0.005393</td>\n",
       "      <td>-0.013147</td>\n",
       "      <td>1.000000</td>\n",
       "      <td>-0.032854</td>\n",
       "      <td>-0.057493</td>\n",
       "      <td>0.014539</td>\n",
       "      <td>0.014727</td>\n",
       "      <td>-0.033084</td>\n",
       "    </tr>\n",
       "    <tr>\n",
       "      <th>popularity</th>\n",
       "      <td>-0.593345</td>\n",
       "      <td>0.221077</td>\n",
       "      <td>0.063292</td>\n",
       "      <td>0.497488</td>\n",
       "      <td>0.214044</td>\n",
       "      <td>-0.299829</td>\n",
       "      <td>0.010675</td>\n",
       "      <td>-0.075293</td>\n",
       "      <td>0.466546</td>\n",
       "      <td>-0.032854</td>\n",
       "      <td>1.000000</td>\n",
       "      <td>-0.135707</td>\n",
       "      <td>0.135047</td>\n",
       "      <td>0.009327</td>\n",
       "      <td>0.880724</td>\n",
       "    </tr>\n",
       "    <tr>\n",
       "      <th>speechiness</th>\n",
       "      <td>-0.056077</td>\n",
       "      <td>0.225305</td>\n",
       "      <td>-0.058449</td>\n",
       "      <td>-0.045226</td>\n",
       "      <td>0.413074</td>\n",
       "      <td>-0.115735</td>\n",
       "      <td>0.015225</td>\n",
       "      <td>0.147667</td>\n",
       "      <td>-0.105796</td>\n",
       "      <td>-0.057493</td>\n",
       "      <td>-0.135707</td>\n",
       "      <td>1.000000</td>\n",
       "      <td>-0.010070</td>\n",
       "      <td>0.056383</td>\n",
       "      <td>-0.120937</td>\n",
       "    </tr>\n",
       "    <tr>\n",
       "      <th>tempo</th>\n",
       "      <td>-0.204982</td>\n",
       "      <td>-0.004872</td>\n",
       "      <td>-0.028816</td>\n",
       "      <td>0.249936</td>\n",
       "      <td>0.011484</td>\n",
       "      <td>-0.107570</td>\n",
       "      <td>0.003148</td>\n",
       "      <td>0.008124</td>\n",
       "      <td>0.211114</td>\n",
       "      <td>0.014539</td>\n",
       "      <td>0.135047</td>\n",
       "      <td>-0.010070</td>\n",
       "      <td>1.000000</td>\n",
       "      <td>0.171182</td>\n",
       "      <td>0.137892</td>\n",
       "    </tr>\n",
       "    <tr>\n",
       "      <th>valence</th>\n",
       "      <td>-0.185540</td>\n",
       "      <td>0.560242</td>\n",
       "      <td>-0.198760</td>\n",
       "      <td>0.350086</td>\n",
       "      <td>-0.022327</td>\n",
       "      <td>-0.193929</td>\n",
       "      <td>0.029064</td>\n",
       "      <td>-0.000426</td>\n",
       "      <td>0.308418</td>\n",
       "      <td>0.014727</td>\n",
       "      <td>0.009327</td>\n",
       "      <td>0.056383</td>\n",
       "      <td>0.171182</td>\n",
       "      <td>1.000000</td>\n",
       "      <td>-0.029304</td>\n",
       "    </tr>\n",
       "    <tr>\n",
       "      <th>year</th>\n",
       "      <td>-0.624550</td>\n",
       "      <td>0.203430</td>\n",
       "      <td>0.076293</td>\n",
       "      <td>0.532419</td>\n",
       "      <td>0.245227</td>\n",
       "      <td>-0.291571</td>\n",
       "      <td>0.012503</td>\n",
       "      <td>-0.055839</td>\n",
       "      <td>0.490118</td>\n",
       "      <td>-0.033084</td>\n",
       "      <td>0.880724</td>\n",
       "      <td>-0.120937</td>\n",
       "      <td>0.137892</td>\n",
       "      <td>-0.029304</td>\n",
       "      <td>1.000000</td>\n",
       "    </tr>\n",
       "  </tbody>\n",
       "</table>\n",
       "</div>"
      ],
      "text/plain": [
       "                  acousticness  danceability  duration_ms    energy  explicit  \\\n",
       "acousticness          1.000000     -0.265950    -0.079311 -0.750283 -0.253690   \n",
       "danceability         -0.265950      1.000000    -0.134500  0.220569  0.241891   \n",
       "duration_ms          -0.079311     -0.134500     1.000000  0.036396 -0.043811   \n",
       "energy               -0.750283      0.220569     0.036396  1.000000  0.142677   \n",
       "explicit             -0.253690      0.241891    -0.043811  0.142677  1.000000   \n",
       "instrumentalness      0.335821     -0.281429     0.084814 -0.287692 -0.138292   \n",
       "key                  -0.021686      0.022599    -0.003116  0.029984  0.008578   \n",
       "liveness             -0.023871     -0.105532     0.034270  0.126293  0.039272   \n",
       "loudness             -0.567072      0.294170    -0.014687  0.782982  0.152695   \n",
       "mode                  0.046475     -0.045306    -0.046981 -0.038355 -0.083221   \n",
       "popularity           -0.593345      0.221077     0.063292  0.497488  0.214044   \n",
       "speechiness          -0.056077      0.225305    -0.058449 -0.045226  0.413074   \n",
       "tempo                -0.204982     -0.004872    -0.028816  0.249936  0.011484   \n",
       "valence              -0.185540      0.560242    -0.198760  0.350086 -0.022327   \n",
       "year                 -0.624550      0.203430     0.076293  0.532419  0.245227   \n",
       "\n",
       "                  instrumentalness       key  liveness  loudness      mode  \\\n",
       "acousticness              0.335821 -0.021686 -0.023871 -0.567072  0.046475   \n",
       "danceability             -0.281429  0.022599 -0.105532  0.294170 -0.045306   \n",
       "duration_ms               0.084814 -0.003116  0.034270 -0.014687 -0.046981   \n",
       "energy                   -0.287692  0.029984  0.126293  0.782982 -0.038355   \n",
       "explicit                 -0.138292  0.008578  0.039272  0.152695 -0.083221   \n",
       "instrumentalness          1.000000 -0.014268 -0.047397 -0.417033 -0.035051   \n",
       "key                      -0.014268  1.000000 -0.000106  0.021920 -0.112766   \n",
       "liveness                 -0.047397 -0.000106  1.000000  0.052985  0.005393   \n",
       "loudness                 -0.417033  0.021920  0.052985  1.000000 -0.013147   \n",
       "mode                     -0.035051 -0.112766  0.005393 -0.013147  1.000000   \n",
       "popularity               -0.299829  0.010675 -0.075293  0.466546 -0.032854   \n",
       "speechiness              -0.115735  0.015225  0.147667 -0.105796 -0.057493   \n",
       "tempo                    -0.107570  0.003148  0.008124  0.211114  0.014539   \n",
       "valence                  -0.193929  0.029064 -0.000426  0.308418  0.014727   \n",
       "year                     -0.291571  0.012503 -0.055839  0.490118 -0.033084   \n",
       "\n",
       "                  popularity  speechiness     tempo   valence      year  \n",
       "acousticness       -0.593345    -0.056077 -0.204982 -0.185540 -0.624550  \n",
       "danceability        0.221077     0.225305 -0.004872  0.560242  0.203430  \n",
       "duration_ms         0.063292    -0.058449 -0.028816 -0.198760  0.076293  \n",
       "energy              0.497488    -0.045226  0.249936  0.350086  0.532419  \n",
       "explicit            0.214044     0.413074  0.011484 -0.022327  0.245227  \n",
       "instrumentalness   -0.299829    -0.115735 -0.107570 -0.193929 -0.291571  \n",
       "key                 0.010675     0.015225  0.003148  0.029064  0.012503  \n",
       "liveness           -0.075293     0.147667  0.008124 -0.000426 -0.055839  \n",
       "loudness            0.466546    -0.105796  0.211114  0.308418  0.490118  \n",
       "mode               -0.032854    -0.057493  0.014539  0.014727 -0.033084  \n",
       "popularity          1.000000    -0.135707  0.135047  0.009327  0.880724  \n",
       "speechiness        -0.135707     1.000000 -0.010070  0.056383 -0.120937  \n",
       "tempo               0.135047    -0.010070  1.000000  0.171182  0.137892  \n",
       "valence             0.009327     0.056383  0.171182  1.000000 -0.029304  \n",
       "year                0.880724    -0.120937  0.137892 -0.029304  1.000000  "
      ]
     },
     "execution_count": 8,
     "metadata": {},
     "output_type": "execute_result"
    }
   ],
   "source": [
    "cm = df.corr()\n",
    "cm"
   ]
  },
  {
   "cell_type": "code",
   "execution_count": 9,
   "metadata": {},
   "outputs": [
    {
     "data": {
      "image/png": "[encoded data removed]",
      "text/plain": [
       "<Figure size 720x576 with 2 Axes>"
      ]
     },
     "metadata": {
      "needs_background": "light"
     },
     "output_type": "display_data"
    }
   ],
   "source": [
    "# Print correlation matrix to understand relationship between variables\n",
    "matrix = df.corr()\n",
    "sns.heatmap(matrix, annot=True)\n",
    "plt.gcf().set_size_inches(10,8)"
   ]
  },
  {
   "cell_type": "code",
   "execution_count": 10,
   "metadata": {},
   "outputs": [
    {
     "data": {
      "text/plain": [
       "acousticness       -0.593345\n",
       "danceability        0.221077\n",
       "duration_ms         0.063292\n",
       "energy              0.497488\n",
       "explicit            0.214044\n",
       "instrumentalness   -0.299829\n",
       "key                 0.010675\n",
       "liveness           -0.075293\n",
       "loudness            0.466546\n",
       "mode               -0.032854\n",
       "popularity          1.000000\n",
       "speechiness        -0.135707\n",
       "tempo               0.135047\n",
       "valence             0.009327\n",
       "year                0.880724\n",
       "Name: popularity, dtype: float64"
      ]
     },
     "execution_count": 10,
     "metadata": {},
     "output_type": "execute_result"
    }
   ],
   "source": [
    "cm['popularity']"
   ]
  },
  {
   "cell_type": "markdown",
   "metadata": {},
   "source": [
    "## Bivariate Analysis"
   ]
  },
  {
   "cell_type": "markdown",
   "metadata": {},
   "source": [
    "## Mini Cluster"
   ]
  },
  {
   "cell_type": "code",
   "execution_count": 24,
   "metadata": {},
   "outputs": [
    {
     "data": {
      "text/html": [
       "<div>\n",
       "<style scoped>\n",
       "    .dataframe tbody tr th:only-of-type {\n",
       "        vertical-align: middle;\n",
       "    }\n",
       "\n",
       "    .dataframe tbody tr th {\n",
       "        vertical-align: top;\n",
       "    }\n",
       "\n",
       "    .dataframe thead th {\n",
       "        text-align: right;\n",
       "    }\n",
       "</style>\n",
       "<table border=\"1\" class=\"dataframe\">\n",
       "  <thead>\n",
       "    <tr style=\"text-align: right;\">\n",
       "      <th></th>\n",
       "      <th>acousticness</th>\n",
       "      <th>popularity</th>\n",
       "    </tr>\n",
       "  </thead>\n",
       "  <tbody>\n",
       "    <tr>\n",
       "      <th>0</th>\n",
       "      <td>0.995</td>\n",
       "      <td>0</td>\n",
       "    </tr>\n",
       "    <tr>\n",
       "      <th>1</th>\n",
       "      <td>0.994</td>\n",
       "      <td>0</td>\n",
       "    </tr>\n",
       "    <tr>\n",
       "      <th>2</th>\n",
       "      <td>0.604</td>\n",
       "      <td>0</td>\n",
       "    </tr>\n",
       "    <tr>\n",
       "      <th>3</th>\n",
       "      <td>0.995</td>\n",
       "      <td>0</td>\n",
       "    </tr>\n",
       "    <tr>\n",
       "      <th>4</th>\n",
       "      <td>0.990</td>\n",
       "      <td>1</td>\n",
       "    </tr>\n",
       "  </tbody>\n",
       "</table>\n",
       "</div>"
      ],
      "text/plain": [
       "   acousticness  popularity\n",
       "0         0.995           0\n",
       "1         0.994           0\n",
       "2         0.604           0\n",
       "3         0.995           0\n",
       "4         0.990           1"
      ]
     },
     "execution_count": 24,
     "metadata": {},
     "output_type": "execute_result"
    }
   ],
   "source": [
    "dfp = pd.read_csv('data.csv')\n",
    "dfp = dfp[['acousticness', 'popularity']]\n",
    "dfp.head()"
   ]
  },
  {
   "cell_type": "code",
   "execution_count": 25,
   "metadata": {},
   "outputs": [
    {
     "data": {
      "text/html": [
       "<div>\n",
       "<style scoped>\n",
       "    .dataframe tbody tr th:only-of-type {\n",
       "        vertical-align: middle;\n",
       "    }\n",
       "\n",
       "    .dataframe tbody tr th {\n",
       "        vertical-align: top;\n",
       "    }\n",
       "\n",
       "    .dataframe thead th {\n",
       "        text-align: right;\n",
       "    }\n",
       "</style>\n",
       "<table border=\"1\" class=\"dataframe\">\n",
       "  <thead>\n",
       "    <tr style=\"text-align: right;\">\n",
       "      <th></th>\n",
       "      <th>acousticness</th>\n",
       "      <th>popularity</th>\n",
       "    </tr>\n",
       "  </thead>\n",
       "  <tbody>\n",
       "    <tr>\n",
       "      <th>0</th>\n",
       "      <td>1.332319</td>\n",
       "      <td>-1.462135</td>\n",
       "    </tr>\n",
       "    <tr>\n",
       "      <th>1</th>\n",
       "      <td>1.329664</td>\n",
       "      <td>-1.462135</td>\n",
       "    </tr>\n",
       "    <tr>\n",
       "      <th>2</th>\n",
       "      <td>0.294154</td>\n",
       "      <td>-1.462135</td>\n",
       "    </tr>\n",
       "    <tr>\n",
       "      <th>3</th>\n",
       "      <td>1.332319</td>\n",
       "      <td>-1.462135</td>\n",
       "    </tr>\n",
       "    <tr>\n",
       "      <th>4</th>\n",
       "      <td>1.319044</td>\n",
       "      <td>-1.415802</td>\n",
       "    </tr>\n",
       "  </tbody>\n",
       "</table>\n",
       "</div>"
      ],
      "text/plain": [
       "   acousticness  popularity\n",
       "0      1.332319   -1.462135\n",
       "1      1.329664   -1.462135\n",
       "2      0.294154   -1.462135\n",
       "3      1.332319   -1.462135\n",
       "4      1.319044   -1.415802"
      ]
     },
     "execution_count": 25,
     "metadata": {},
     "output_type": "execute_result"
    }
   ],
   "source": [
    "dfp['acousticness'] = scale(dfp['acousticness'])\n",
    "dfp['popularity'] = scale(dfp['popularity'])\n",
    "dfp.head()"
   ]
  },
  {
   "cell_type": "code",
   "execution_count": 26,
   "metadata": {},
   "outputs": [
    {
     "name": "stdout",
     "output_type": "stream",
     "text": [
      "[2 2 0 ... 7 3 3]\n"
     ]
    }
   ],
   "source": [
    "clusterNum = 10\n",
    "k_means = KMeans(n_clusters = clusterNum, n_init = 10)\n",
    "k_means.fit(dfp)\n",
    "labels = k_means.labels_\n",
    "print(labels)"
   ]
  },
  {
   "cell_type": "code",
   "execution_count": 27,
   "metadata": {},
   "outputs": [
    {
     "data": {
      "text/html": [
       "<div>\n",
       "<style scoped>\n",
       "    .dataframe tbody tr th:only-of-type {\n",
       "        vertical-align: middle;\n",
       "    }\n",
       "\n",
       "    .dataframe tbody tr th {\n",
       "        vertical-align: top;\n",
       "    }\n",
       "\n",
       "    .dataframe thead th {\n",
       "        text-align: right;\n",
       "    }\n",
       "</style>\n",
       "<table border=\"1\" class=\"dataframe\">\n",
       "  <thead>\n",
       "    <tr style=\"text-align: right;\">\n",
       "      <th></th>\n",
       "      <th>acousticness</th>\n",
       "      <th>popularity</th>\n",
       "      <th>cluster</th>\n",
       "    </tr>\n",
       "  </thead>\n",
       "  <tbody>\n",
       "    <tr>\n",
       "      <th>0</th>\n",
       "      <td>1.332319</td>\n",
       "      <td>-1.462135</td>\n",
       "      <td>2</td>\n",
       "    </tr>\n",
       "    <tr>\n",
       "      <th>1</th>\n",
       "      <td>1.329664</td>\n",
       "      <td>-1.462135</td>\n",
       "      <td>2</td>\n",
       "    </tr>\n",
       "    <tr>\n",
       "      <th>2</th>\n",
       "      <td>0.294154</td>\n",
       "      <td>-1.462135</td>\n",
       "      <td>0</td>\n",
       "    </tr>\n",
       "    <tr>\n",
       "      <th>3</th>\n",
       "      <td>1.332319</td>\n",
       "      <td>-1.462135</td>\n",
       "      <td>2</td>\n",
       "    </tr>\n",
       "    <tr>\n",
       "      <th>4</th>\n",
       "      <td>1.319044</td>\n",
       "      <td>-1.415802</td>\n",
       "      <td>2</td>\n",
       "    </tr>\n",
       "  </tbody>\n",
       "</table>\n",
       "</div>"
      ],
      "text/plain": [
       "   acousticness  popularity  cluster\n",
       "0      1.332319   -1.462135        2\n",
       "1      1.329664   -1.462135        2\n",
       "2      0.294154   -1.462135        0\n",
       "3      1.332319   -1.462135        2\n",
       "4      1.319044   -1.415802        2"
      ]
     },
     "execution_count": 27,
     "metadata": {},
     "output_type": "execute_result"
    }
   ],
   "source": [
    "dfp[\"cluster\"] = labels\n",
    "dfp.head(5)"
   ]
  },
  {
   "cell_type": "code",
   "execution_count": 28,
   "metadata": {},
   "outputs": [
    {
     "data": {
      "text/html": [
       "<div>\n",
       "<style scoped>\n",
       "    .dataframe tbody tr th:only-of-type {\n",
       "        vertical-align: middle;\n",
       "    }\n",
       "\n",
       "    .dataframe tbody tr th {\n",
       "        vertical-align: top;\n",
       "    }\n",
       "\n",
       "    .dataframe thead th {\n",
       "        text-align: right;\n",
       "    }\n",
       "</style>\n",
       "<table border=\"1\" class=\"dataframe\">\n",
       "  <thead>\n",
       "    <tr style=\"text-align: right;\">\n",
       "      <th></th>\n",
       "      <th>acousticness</th>\n",
       "      <th>popularity</th>\n",
       "    </tr>\n",
       "    <tr>\n",
       "      <th>cluster</th>\n",
       "      <th></th>\n",
       "      <th></th>\n",
       "    </tr>\n",
       "  </thead>\n",
       "  <tbody>\n",
       "    <tr>\n",
       "      <th>0</th>\n",
       "      <td>-0.540055</td>\n",
       "      <td>-1.290376</td>\n",
       "    </tr>\n",
       "    <tr>\n",
       "      <th>1</th>\n",
       "      <td>-0.250291</td>\n",
       "      <td>0.727517</td>\n",
       "    </tr>\n",
       "    <tr>\n",
       "      <th>2</th>\n",
       "      <td>1.187947</td>\n",
       "      <td>-1.393337</td>\n",
       "    </tr>\n",
       "    <tr>\n",
       "      <th>3</th>\n",
       "      <td>-1.015114</td>\n",
       "      <td>1.544120</td>\n",
       "    </tr>\n",
       "    <tr>\n",
       "      <th>4</th>\n",
       "      <td>-1.159195</td>\n",
       "      <td>0.715695</td>\n",
       "    </tr>\n",
       "    <tr>\n",
       "      <th>5</th>\n",
       "      <td>0.904945</td>\n",
       "      <td>0.327034</td>\n",
       "    </tr>\n",
       "    <tr>\n",
       "      <th>6</th>\n",
       "      <td>0.926511</td>\n",
       "      <td>-0.614487</td>\n",
       "    </tr>\n",
       "    <tr>\n",
       "      <th>7</th>\n",
       "      <td>0.641714</td>\n",
       "      <td>1.306309</td>\n",
       "    </tr>\n",
       "    <tr>\n",
       "      <th>8</th>\n",
       "      <td>-1.076553</td>\n",
       "      <td>-0.047621</td>\n",
       "    </tr>\n",
       "    <tr>\n",
       "      <th>9</th>\n",
       "      <td>-0.012331</td>\n",
       "      <td>-0.177214</td>\n",
       "    </tr>\n",
       "  </tbody>\n",
       "</table>\n",
       "</div>"
      ],
      "text/plain": [
       "         acousticness  popularity\n",
       "cluster                          \n",
       "0           -0.540055   -1.290376\n",
       "1           -0.250291    0.727517\n",
       "2            1.187947   -1.393337\n",
       "3           -1.015114    1.544120\n",
       "4           -1.159195    0.715695\n",
       "5            0.904945    0.327034\n",
       "6            0.926511   -0.614487\n",
       "7            0.641714    1.306309\n",
       "8           -1.076553   -0.047621\n",
       "9           -0.012331   -0.177214"
      ]
     },
     "execution_count": 28,
     "metadata": {},
     "output_type": "execute_result"
    }
   ],
   "source": [
    "dfp.groupby('cluster').mean()"
   ]
  },
  {
   "cell_type": "code",
   "execution_count": 29,
   "metadata": {},
   "outputs": [
    {
     "data": {
      "image/png": "[encoded data removed]",
      "text/plain": [
       "<Figure size 432x288 with 1 Axes>"
      ]
     },
     "metadata": {
      "needs_background": "light"
     },
     "output_type": "display_data"
    }
   ],
   "source": [
    "plt.scatter(dfp['acousticness'], dfp['popularity'], c=labels.astype(np.float))\n",
    "plt.xlabel('Popularity', fontsize=18)\n",
    "plt.ylabel('Acousticness', fontsize=16)\n",
    "plt.show()"
   ]
  },
  {
   "cell_type": "markdown",
   "metadata": {},
   "source": [
    "## Modelling"
   ]
  },
  {
   "cell_type": "code",
   "execution_count": 4,
   "metadata": {},
   "outputs": [],
   "source": [
    "mdf = df[['acousticness','danceability','energy','instrumentalness','loudness', 'year', 'popularity']].copy()"
   ]
  },
  {
   "cell_type": "code",
   "execution_count": 5,
   "metadata": {},
   "outputs": [
    {
     "data": {
      "text/plain": [
       "Index(['acousticness', 'danceability', 'energy', 'instrumentalness',\n",
       "       'loudness', 'year', 'popularity'],\n",
       "      dtype='object')"
      ]
     },
     "execution_count": 5,
     "metadata": {},
     "output_type": "execute_result"
    }
   ],
   "source": [
    "mdf.columns"
   ]
  },
  {
   "cell_type": "code",
   "execution_count": 6,
   "metadata": {},
   "outputs": [
    {
     "data": {
      "text/html": [
       "<div>\n",
       "<style scoped>\n",
       "    .dataframe tbody tr th:only-of-type {\n",
       "        vertical-align: middle;\n",
       "    }\n",
       "\n",
       "    .dataframe tbody tr th {\n",
       "        vertical-align: top;\n",
       "    }\n",
       "\n",
       "    .dataframe thead th {\n",
       "        text-align: right;\n",
       "    }\n",
       "</style>\n",
       "<table border=\"1\" class=\"dataframe\">\n",
       "  <thead>\n",
       "    <tr style=\"text-align: right;\">\n",
       "      <th></th>\n",
       "      <th>acousticness</th>\n",
       "      <th>artists</th>\n",
       "      <th>danceability</th>\n",
       "      <th>duration_ms</th>\n",
       "      <th>energy</th>\n",
       "      <th>explicit</th>\n",
       "      <th>id</th>\n",
       "      <th>instrumentalness</th>\n",
       "      <th>key</th>\n",
       "      <th>liveness</th>\n",
       "      <th>loudness</th>\n",
       "      <th>mode</th>\n",
       "      <th>name</th>\n",
       "      <th>popularity</th>\n",
       "      <th>release_date</th>\n",
       "      <th>speechiness</th>\n",
       "      <th>tempo</th>\n",
       "      <th>valence</th>\n",
       "      <th>year</th>\n",
       "    </tr>\n",
       "  </thead>\n",
       "  <tbody>\n",
       "    <tr>\n",
       "      <th>0</th>\n",
       "      <td>0.995</td>\n",
       "      <td>['Carl Woitschach']</td>\n",
       "      <td>0.708</td>\n",
       "      <td>158648</td>\n",
       "      <td>0.1950</td>\n",
       "      <td>0</td>\n",
       "      <td>6KbQ3uYMLKb5jDxLF7wYDD</td>\n",
       "      <td>0.563</td>\n",
       "      <td>10</td>\n",
       "      <td>0.1510</td>\n",
       "      <td>-12.428</td>\n",
       "      <td>1</td>\n",
       "      <td>Singende Bataillone 1. Teil</td>\n",
       "      <td>0</td>\n",
       "      <td>1928</td>\n",
       "      <td>0.0506</td>\n",
       "      <td>118.469</td>\n",
       "      <td>0.7790</td>\n",
       "      <td>1928</td>\n",
       "    </tr>\n",
       "    <tr>\n",
       "      <th>1</th>\n",
       "      <td>0.994</td>\n",
       "      <td>['Robert Schumann', 'Vladimir Horowitz']</td>\n",
       "      <td>0.379</td>\n",
       "      <td>282133</td>\n",
       "      <td>0.0135</td>\n",
       "      <td>0</td>\n",
       "      <td>6KuQTIu1KoTTkLXKrwlLPV</td>\n",
       "      <td>0.901</td>\n",
       "      <td>8</td>\n",
       "      <td>0.0763</td>\n",
       "      <td>-28.454</td>\n",
       "      <td>1</td>\n",
       "      <td>Fantasiestücke, Op. 111: Più tosto lento</td>\n",
       "      <td>0</td>\n",
       "      <td>1928</td>\n",
       "      <td>0.0462</td>\n",
       "      <td>83.972</td>\n",
       "      <td>0.0767</td>\n",
       "      <td>1928</td>\n",
       "    </tr>\n",
       "    <tr>\n",
       "      <th>2</th>\n",
       "      <td>0.604</td>\n",
       "      <td>['Seweryn Goszczyński']</td>\n",
       "      <td>0.749</td>\n",
       "      <td>104300</td>\n",
       "      <td>0.2200</td>\n",
       "      <td>0</td>\n",
       "      <td>6L63VW0PibdM1HDSBoqnoM</td>\n",
       "      <td>0.000</td>\n",
       "      <td>5</td>\n",
       "      <td>0.1190</td>\n",
       "      <td>-19.924</td>\n",
       "      <td>0</td>\n",
       "      <td>Chapter 1.18 - Zamek kaniowski</td>\n",
       "      <td>0</td>\n",
       "      <td>1928</td>\n",
       "      <td>0.9290</td>\n",
       "      <td>107.177</td>\n",
       "      <td>0.8800</td>\n",
       "      <td>1928</td>\n",
       "    </tr>\n",
       "    <tr>\n",
       "      <th>3</th>\n",
       "      <td>0.995</td>\n",
       "      <td>['Francisco Canaro']</td>\n",
       "      <td>0.781</td>\n",
       "      <td>180760</td>\n",
       "      <td>0.1300</td>\n",
       "      <td>0</td>\n",
       "      <td>6M94FkXd15sOAOQYRnWPN8</td>\n",
       "      <td>0.887</td>\n",
       "      <td>1</td>\n",
       "      <td>0.1110</td>\n",
       "      <td>-14.734</td>\n",
       "      <td>0</td>\n",
       "      <td>Bebamos Juntos - Instrumental (Remasterizado)</td>\n",
       "      <td>0</td>\n",
       "      <td>1928-09-25</td>\n",
       "      <td>0.0926</td>\n",
       "      <td>108.003</td>\n",
       "      <td>0.7200</td>\n",
       "      <td>1928</td>\n",
       "    </tr>\n",
       "    <tr>\n",
       "      <th>4</th>\n",
       "      <td>0.990</td>\n",
       "      <td>['Frédéric Chopin', 'Vladimir Horowitz']</td>\n",
       "      <td>0.210</td>\n",
       "      <td>687733</td>\n",
       "      <td>0.2040</td>\n",
       "      <td>0</td>\n",
       "      <td>6N6tiFZ9vLTSOIxkj8qKrd</td>\n",
       "      <td>0.908</td>\n",
       "      <td>11</td>\n",
       "      <td>0.0980</td>\n",
       "      <td>-16.829</td>\n",
       "      <td>1</td>\n",
       "      <td>Polonaise-Fantaisie in A-Flat Major, Op. 61</td>\n",
       "      <td>1</td>\n",
       "      <td>1928</td>\n",
       "      <td>0.0424</td>\n",
       "      <td>62.149</td>\n",
       "      <td>0.0693</td>\n",
       "      <td>1928</td>\n",
       "    </tr>\n",
       "  </tbody>\n",
       "</table>\n",
       "</div>"
      ],
      "text/plain": [
       "   acousticness                                   artists  danceability  \\\n",
       "0         0.995                       ['Carl Woitschach']         0.708   \n",
       "1         0.994  ['Robert Schumann', 'Vladimir Horowitz']         0.379   \n",
       "2         0.604                   ['Seweryn Goszczyński']         0.749   \n",
       "3         0.995                      ['Francisco Canaro']         0.781   \n",
       "4         0.990  ['Frédéric Chopin', 'Vladimir Horowitz']         0.210   \n",
       "\n",
       "   duration_ms  energy  explicit                      id  instrumentalness  \\\n",
       "0       158648  0.1950         0  6KbQ3uYMLKb5jDxLF7wYDD             0.563   \n",
       "1       282133  0.0135         0  6KuQTIu1KoTTkLXKrwlLPV             0.901   \n",
       "2       104300  0.2200         0  6L63VW0PibdM1HDSBoqnoM             0.000   \n",
       "3       180760  0.1300         0  6M94FkXd15sOAOQYRnWPN8             0.887   \n",
       "4       687733  0.2040         0  6N6tiFZ9vLTSOIxkj8qKrd             0.908   \n",
       "\n",
       "   key  liveness  loudness  mode  \\\n",
       "0   10    0.1510   -12.428     1   \n",
       "1    8    0.0763   -28.454     1   \n",
       "2    5    0.1190   -19.924     0   \n",
       "3    1    0.1110   -14.734     0   \n",
       "4   11    0.0980   -16.829     1   \n",
       "\n",
       "                                            name  popularity release_date  \\\n",
       "0                    Singende Bataillone 1. Teil           0         1928   \n",
       "1       Fantasiestücke, Op. 111: Più tosto lento           0         1928   \n",
       "2                 Chapter 1.18 - Zamek kaniowski           0         1928   \n",
       "3  Bebamos Juntos - Instrumental (Remasterizado)           0   1928-09-25   \n",
       "4    Polonaise-Fantaisie in A-Flat Major, Op. 61           1         1928   \n",
       "\n",
       "   speechiness    tempo  valence  year  \n",
       "0       0.0506  118.469   0.7790  1928  \n",
       "1       0.0462   83.972   0.0767  1928  \n",
       "2       0.9290  107.177   0.8800  1928  \n",
       "3       0.0926  108.003   0.7200  1928  \n",
       "4       0.0424   62.149   0.0693  1928  "
      ]
     },
     "execution_count": 6,
     "metadata": {},
     "output_type": "execute_result"
    }
   ],
   "source": [
    "for i in mdf.columns:\n",
    "    mdf[i] = scale(mdf[i])\n",
    "df.head()"
   ]
  },
  {
   "cell_type": "code",
   "execution_count": 9,
   "metadata": {},
   "outputs": [
    {
     "name": "stdout",
     "output_type": "stream",
     "text": [
      "[34 63 13 ... 35 67  7]\n"
     ]
    }
   ],
   "source": [
    "clusterNum = 100\n",
    "k_means = KMeans(n_clusters = clusterNum, n_init = 1, max_iter=100)\n",
    "k_means.fit(mdf)\n",
    "labels = k_means.labels_\n",
    "print(labels)"
   ]
  },
  {
   "cell_type": "code",
   "execution_count": 10,
   "metadata": {},
   "outputs": [
    {
     "data": {
      "text/html": [
       "<div>\n",
       "<style scoped>\n",
       "    .dataframe tbody tr th:only-of-type {\n",
       "        vertical-align: middle;\n",
       "    }\n",
       "\n",
       "    .dataframe tbody tr th {\n",
       "        vertical-align: top;\n",
       "    }\n",
       "\n",
       "    .dataframe thead th {\n",
       "        text-align: right;\n",
       "    }\n",
       "</style>\n",
       "<table border=\"1\" class=\"dataframe\">\n",
       "  <thead>\n",
       "    <tr style=\"text-align: right;\">\n",
       "      <th></th>\n",
       "      <th>acousticness</th>\n",
       "      <th>artists</th>\n",
       "      <th>danceability</th>\n",
       "      <th>duration_ms</th>\n",
       "      <th>energy</th>\n",
       "      <th>explicit</th>\n",
       "      <th>id</th>\n",
       "      <th>instrumentalness</th>\n",
       "      <th>key</th>\n",
       "      <th>liveness</th>\n",
       "      <th>loudness</th>\n",
       "      <th>mode</th>\n",
       "      <th>name</th>\n",
       "      <th>popularity</th>\n",
       "      <th>release_date</th>\n",
       "      <th>speechiness</th>\n",
       "      <th>tempo</th>\n",
       "      <th>valence</th>\n",
       "      <th>year</th>\n",
       "      <th>cluster</th>\n",
       "    </tr>\n",
       "  </thead>\n",
       "  <tbody>\n",
       "    <tr>\n",
       "      <th>0</th>\n",
       "      <td>0.995</td>\n",
       "      <td>['Carl Woitschach']</td>\n",
       "      <td>0.708</td>\n",
       "      <td>158648</td>\n",
       "      <td>0.1950</td>\n",
       "      <td>0</td>\n",
       "      <td>6KbQ3uYMLKb5jDxLF7wYDD</td>\n",
       "      <td>0.563</td>\n",
       "      <td>10</td>\n",
       "      <td>0.1510</td>\n",
       "      <td>-12.428</td>\n",
       "      <td>1</td>\n",
       "      <td>Singende Bataillone 1. Teil</td>\n",
       "      <td>0</td>\n",
       "      <td>1928</td>\n",
       "      <td>0.0506</td>\n",
       "      <td>118.469</td>\n",
       "      <td>0.7790</td>\n",
       "      <td>1928</td>\n",
       "      <td>34</td>\n",
       "    </tr>\n",
       "    <tr>\n",
       "      <th>1</th>\n",
       "      <td>0.994</td>\n",
       "      <td>['Robert Schumann', 'Vladimir Horowitz']</td>\n",
       "      <td>0.379</td>\n",
       "      <td>282133</td>\n",
       "      <td>0.0135</td>\n",
       "      <td>0</td>\n",
       "      <td>6KuQTIu1KoTTkLXKrwlLPV</td>\n",
       "      <td>0.901</td>\n",
       "      <td>8</td>\n",
       "      <td>0.0763</td>\n",
       "      <td>-28.454</td>\n",
       "      <td>1</td>\n",
       "      <td>Fantasiestücke, Op. 111: Più tosto lento</td>\n",
       "      <td>0</td>\n",
       "      <td>1928</td>\n",
       "      <td>0.0462</td>\n",
       "      <td>83.972</td>\n",
       "      <td>0.0767</td>\n",
       "      <td>1928</td>\n",
       "      <td>63</td>\n",
       "    </tr>\n",
       "    <tr>\n",
       "      <th>2</th>\n",
       "      <td>0.604</td>\n",
       "      <td>['Seweryn Goszczyński']</td>\n",
       "      <td>0.749</td>\n",
       "      <td>104300</td>\n",
       "      <td>0.2200</td>\n",
       "      <td>0</td>\n",
       "      <td>6L63VW0PibdM1HDSBoqnoM</td>\n",
       "      <td>0.000</td>\n",
       "      <td>5</td>\n",
       "      <td>0.1190</td>\n",
       "      <td>-19.924</td>\n",
       "      <td>0</td>\n",
       "      <td>Chapter 1.18 - Zamek kaniowski</td>\n",
       "      <td>0</td>\n",
       "      <td>1928</td>\n",
       "      <td>0.9290</td>\n",
       "      <td>107.177</td>\n",
       "      <td>0.8800</td>\n",
       "      <td>1928</td>\n",
       "      <td>13</td>\n",
       "    </tr>\n",
       "    <tr>\n",
       "      <th>3</th>\n",
       "      <td>0.995</td>\n",
       "      <td>['Francisco Canaro']</td>\n",
       "      <td>0.781</td>\n",
       "      <td>180760</td>\n",
       "      <td>0.1300</td>\n",
       "      <td>0</td>\n",
       "      <td>6M94FkXd15sOAOQYRnWPN8</td>\n",
       "      <td>0.887</td>\n",
       "      <td>1</td>\n",
       "      <td>0.1110</td>\n",
       "      <td>-14.734</td>\n",
       "      <td>0</td>\n",
       "      <td>Bebamos Juntos - Instrumental (Remasterizado)</td>\n",
       "      <td>0</td>\n",
       "      <td>1928-09-25</td>\n",
       "      <td>0.0926</td>\n",
       "      <td>108.003</td>\n",
       "      <td>0.7200</td>\n",
       "      <td>1928</td>\n",
       "      <td>74</td>\n",
       "    </tr>\n",
       "    <tr>\n",
       "      <th>4</th>\n",
       "      <td>0.990</td>\n",
       "      <td>['Frédéric Chopin', 'Vladimir Horowitz']</td>\n",
       "      <td>0.210</td>\n",
       "      <td>687733</td>\n",
       "      <td>0.2040</td>\n",
       "      <td>0</td>\n",
       "      <td>6N6tiFZ9vLTSOIxkj8qKrd</td>\n",
       "      <td>0.908</td>\n",
       "      <td>11</td>\n",
       "      <td>0.0980</td>\n",
       "      <td>-16.829</td>\n",
       "      <td>1</td>\n",
       "      <td>Polonaise-Fantaisie in A-Flat Major, Op. 61</td>\n",
       "      <td>1</td>\n",
       "      <td>1928</td>\n",
       "      <td>0.0424</td>\n",
       "      <td>62.149</td>\n",
       "      <td>0.0693</td>\n",
       "      <td>1928</td>\n",
       "      <td>6</td>\n",
       "    </tr>\n",
       "  </tbody>\n",
       "</table>\n",
       "</div>"
      ],
      "text/plain": [
       "   acousticness                                   artists  danceability  \\\n",
       "0         0.995                       ['Carl Woitschach']         0.708   \n",
       "1         0.994  ['Robert Schumann', 'Vladimir Horowitz']         0.379   \n",
       "2         0.604                   ['Seweryn Goszczyński']         0.749   \n",
       "3         0.995                      ['Francisco Canaro']         0.781   \n",
       "4         0.990  ['Frédéric Chopin', 'Vladimir Horowitz']         0.210   \n",
       "\n",
       "   duration_ms  energy  explicit                      id  instrumentalness  \\\n",
       "0       158648  0.1950         0  6KbQ3uYMLKb5jDxLF7wYDD             0.563   \n",
       "1       282133  0.0135         0  6KuQTIu1KoTTkLXKrwlLPV             0.901   \n",
       "2       104300  0.2200         0  6L63VW0PibdM1HDSBoqnoM             0.000   \n",
       "3       180760  0.1300         0  6M94FkXd15sOAOQYRnWPN8             0.887   \n",
       "4       687733  0.2040         0  6N6tiFZ9vLTSOIxkj8qKrd             0.908   \n",
       "\n",
       "   key  liveness  loudness  mode  \\\n",
       "0   10    0.1510   -12.428     1   \n",
       "1    8    0.0763   -28.454     1   \n",
       "2    5    0.1190   -19.924     0   \n",
       "3    1    0.1110   -14.734     0   \n",
       "4   11    0.0980   -16.829     1   \n",
       "\n",
       "                                            name  popularity release_date  \\\n",
       "0                    Singende Bataillone 1. Teil           0         1928   \n",
       "1       Fantasiestücke, Op. 111: Più tosto lento           0         1928   \n",
       "2                 Chapter 1.18 - Zamek kaniowski           0         1928   \n",
       "3  Bebamos Juntos - Instrumental (Remasterizado)           0   1928-09-25   \n",
       "4    Polonaise-Fantaisie in A-Flat Major, Op. 61           1         1928   \n",
       "\n",
       "   speechiness    tempo  valence  year  cluster  \n",
       "0       0.0506  118.469   0.7790  1928       34  \n",
       "1       0.0462   83.972   0.0767  1928       63  \n",
       "2       0.9290  107.177   0.8800  1928       13  \n",
       "3       0.0926  108.003   0.7200  1928       74  \n",
       "4       0.0424   62.149   0.0693  1928        6  "
      ]
     },
     "execution_count": 10,
     "metadata": {},
     "output_type": "execute_result"
    }
   ],
   "source": [
    "df[\"cluster\"] = labels\n",
    "df.head(5)"
   ]
  },
  {
   "cell_type": "code",
   "execution_count": 11,
   "metadata": {},
   "outputs": [
    {
     "data": {
      "text/html": [
       "<div>\n",
       "<style scoped>\n",
       "    .dataframe tbody tr th:only-of-type {\n",
       "        vertical-align: middle;\n",
       "    }\n",
       "\n",
       "    .dataframe tbody tr th {\n",
       "        vertical-align: top;\n",
       "    }\n",
       "\n",
       "    .dataframe thead th {\n",
       "        text-align: right;\n",
       "    }\n",
       "</style>\n",
       "<table border=\"1\" class=\"dataframe\">\n",
       "  <thead>\n",
       "    <tr style=\"text-align: right;\">\n",
       "      <th></th>\n",
       "      <th>acousticness</th>\n",
       "      <th>danceability</th>\n",
       "      <th>duration_ms</th>\n",
       "      <th>energy</th>\n",
       "      <th>explicit</th>\n",
       "      <th>instrumentalness</th>\n",
       "      <th>key</th>\n",
       "      <th>liveness</th>\n",
       "      <th>loudness</th>\n",
       "      <th>mode</th>\n",
       "      <th>popularity</th>\n",
       "      <th>speechiness</th>\n",
       "      <th>tempo</th>\n",
       "      <th>valence</th>\n",
       "      <th>year</th>\n",
       "    </tr>\n",
       "    <tr>\n",
       "      <th>cluster</th>\n",
       "      <th></th>\n",
       "      <th></th>\n",
       "      <th></th>\n",
       "      <th></th>\n",
       "      <th></th>\n",
       "      <th></th>\n",
       "      <th></th>\n",
       "      <th></th>\n",
       "      <th></th>\n",
       "      <th></th>\n",
       "      <th></th>\n",
       "      <th></th>\n",
       "      <th></th>\n",
       "      <th></th>\n",
       "      <th></th>\n",
       "    </tr>\n",
       "  </thead>\n",
       "  <tbody>\n",
       "    <tr>\n",
       "      <th>0</th>\n",
       "      <td>0.951383</td>\n",
       "      <td>0.512232</td>\n",
       "      <td>188875.544182</td>\n",
       "      <td>0.244492</td>\n",
       "      <td>0.000311</td>\n",
       "      <td>0.025320</td>\n",
       "      <td>5.197262</td>\n",
       "      <td>0.232673</td>\n",
       "      <td>-12.026784</td>\n",
       "      <td>0.714686</td>\n",
       "      <td>1.653391</td>\n",
       "      <td>0.085871</td>\n",
       "      <td>111.127671</td>\n",
       "      <td>0.560166</td>\n",
       "      <td>1941.625700</td>\n",
       "    </tr>\n",
       "    <tr>\n",
       "      <th>1</th>\n",
       "      <td>0.740279</td>\n",
       "      <td>0.523723</td>\n",
       "      <td>222626.235866</td>\n",
       "      <td>0.273134</td>\n",
       "      <td>0.001767</td>\n",
       "      <td>0.015598</td>\n",
       "      <td>5.143993</td>\n",
       "      <td>0.164735</td>\n",
       "      <td>-13.857677</td>\n",
       "      <td>0.778269</td>\n",
       "      <td>53.428445</td>\n",
       "      <td>0.047094</td>\n",
       "      <td>114.636896</td>\n",
       "      <td>0.446457</td>\n",
       "      <td>1970.696996</td>\n",
       "    </tr>\n",
       "    <tr>\n",
       "      <th>2</th>\n",
       "      <td>0.969918</td>\n",
       "      <td>0.594318</td>\n",
       "      <td>185054.075182</td>\n",
       "      <td>0.139121</td>\n",
       "      <td>0.000730</td>\n",
       "      <td>0.867526</td>\n",
       "      <td>5.163504</td>\n",
       "      <td>0.140081</td>\n",
       "      <td>-20.389153</td>\n",
       "      <td>0.696350</td>\n",
       "      <td>3.512409</td>\n",
       "      <td>0.082174</td>\n",
       "      <td>108.276896</td>\n",
       "      <td>0.534906</td>\n",
       "      <td>1945.135766</td>\n",
       "    </tr>\n",
       "    <tr>\n",
       "      <th>3</th>\n",
       "      <td>0.094396</td>\n",
       "      <td>0.506058</td>\n",
       "      <td>249886.683883</td>\n",
       "      <td>0.692103</td>\n",
       "      <td>0.126007</td>\n",
       "      <td>0.008818</td>\n",
       "      <td>5.230403</td>\n",
       "      <td>0.206211</td>\n",
       "      <td>-6.597399</td>\n",
       "      <td>0.726007</td>\n",
       "      <td>46.687912</td>\n",
       "      <td>0.076792</td>\n",
       "      <td>126.376463</td>\n",
       "      <td>0.466723</td>\n",
       "      <td>2004.106960</td>\n",
       "    </tr>\n",
       "    <tr>\n",
       "      <th>4</th>\n",
       "      <td>0.265946</td>\n",
       "      <td>0.594571</td>\n",
       "      <td>247254.656250</td>\n",
       "      <td>0.482079</td>\n",
       "      <td>0.069712</td>\n",
       "      <td>0.009918</td>\n",
       "      <td>5.210737</td>\n",
       "      <td>0.171917</td>\n",
       "      <td>-9.395978</td>\n",
       "      <td>0.769231</td>\n",
       "      <td>45.755208</td>\n",
       "      <td>0.058961</td>\n",
       "      <td>118.069600</td>\n",
       "      <td>0.486496</td>\n",
       "      <td>2000.059295</td>\n",
       "    </tr>\n",
       "    <tr>\n",
       "      <th>...</th>\n",
       "      <td>...</td>\n",
       "      <td>...</td>\n",
       "      <td>...</td>\n",
       "      <td>...</td>\n",
       "      <td>...</td>\n",
       "      <td>...</td>\n",
       "      <td>...</td>\n",
       "      <td>...</td>\n",
       "      <td>...</td>\n",
       "      <td>...</td>\n",
       "      <td>...</td>\n",
       "      <td>...</td>\n",
       "      <td>...</td>\n",
       "      <td>...</td>\n",
       "      <td>...</td>\n",
       "    </tr>\n",
       "    <tr>\n",
       "      <th>95</th>\n",
       "      <td>0.679527</td>\n",
       "      <td>0.539911</td>\n",
       "      <td>230722.011241</td>\n",
       "      <td>0.405364</td>\n",
       "      <td>0.018735</td>\n",
       "      <td>0.010452</td>\n",
       "      <td>5.266979</td>\n",
       "      <td>0.197028</td>\n",
       "      <td>-10.683892</td>\n",
       "      <td>0.800000</td>\n",
       "      <td>39.210304</td>\n",
       "      <td>0.060404</td>\n",
       "      <td>120.077292</td>\n",
       "      <td>0.496733</td>\n",
       "      <td>1994.243560</td>\n",
       "    </tr>\n",
       "    <tr>\n",
       "      <th>96</th>\n",
       "      <td>0.570560</td>\n",
       "      <td>0.495929</td>\n",
       "      <td>236518.311158</td>\n",
       "      <td>0.628090</td>\n",
       "      <td>0.113672</td>\n",
       "      <td>0.009158</td>\n",
       "      <td>5.140911</td>\n",
       "      <td>0.226767</td>\n",
       "      <td>-6.717721</td>\n",
       "      <td>0.734940</td>\n",
       "      <td>52.371399</td>\n",
       "      <td>0.099535</td>\n",
       "      <td>125.264412</td>\n",
       "      <td>0.504618</td>\n",
       "      <td>2005.716082</td>\n",
       "    </tr>\n",
       "    <tr>\n",
       "      <th>97</th>\n",
       "      <td>0.105647</td>\n",
       "      <td>0.830444</td>\n",
       "      <td>207071.724844</td>\n",
       "      <td>0.637654</td>\n",
       "      <td>0.640695</td>\n",
       "      <td>0.005035</td>\n",
       "      <td>5.269368</td>\n",
       "      <td>0.159931</td>\n",
       "      <td>-6.072154</td>\n",
       "      <td>0.562778</td>\n",
       "      <td>67.158504</td>\n",
       "      <td>0.159646</td>\n",
       "      <td>119.978750</td>\n",
       "      <td>0.564093</td>\n",
       "      <td>2015.142030</td>\n",
       "    </tr>\n",
       "    <tr>\n",
       "      <th>98</th>\n",
       "      <td>0.063568</td>\n",
       "      <td>0.633051</td>\n",
       "      <td>229978.560628</td>\n",
       "      <td>0.869227</td>\n",
       "      <td>0.207618</td>\n",
       "      <td>0.009253</td>\n",
       "      <td>5.391974</td>\n",
       "      <td>0.219167</td>\n",
       "      <td>-4.755484</td>\n",
       "      <td>0.672870</td>\n",
       "      <td>46.696714</td>\n",
       "      <td>0.096222</td>\n",
       "      <td>120.505462</td>\n",
       "      <td>0.646171</td>\n",
       "      <td>2004.732480</td>\n",
       "    </tr>\n",
       "    <tr>\n",
       "      <th>99</th>\n",
       "      <td>0.132469</td>\n",
       "      <td>0.816290</td>\n",
       "      <td>251547.616010</td>\n",
       "      <td>0.421156</td>\n",
       "      <td>0.097561</td>\n",
       "      <td>0.022452</td>\n",
       "      <td>5.451532</td>\n",
       "      <td>0.136586</td>\n",
       "      <td>-14.069237</td>\n",
       "      <td>0.639775</td>\n",
       "      <td>38.606629</td>\n",
       "      <td>0.120480</td>\n",
       "      <td>113.647882</td>\n",
       "      <td>0.741218</td>\n",
       "      <td>1986.033771</td>\n",
       "    </tr>\n",
       "  </tbody>\n",
       "</table>\n",
       "<p>100 rows × 15 columns</p>\n",
       "</div>"
      ],
      "text/plain": [
       "         acousticness  danceability    duration_ms    energy  explicit  \\\n",
       "cluster                                                                  \n",
       "0            0.951383      0.512232  188875.544182  0.244492  0.000311   \n",
       "1            0.740279      0.523723  222626.235866  0.273134  0.001767   \n",
       "2            0.969918      0.594318  185054.075182  0.139121  0.000730   \n",
       "3            0.094396      0.506058  249886.683883  0.692103  0.126007   \n",
       "4            0.265946      0.594571  247254.656250  0.482079  0.069712   \n",
       "...               ...           ...            ...       ...       ...   \n",
       "95           0.679527      0.539911  230722.011241  0.405364  0.018735   \n",
       "96           0.570560      0.495929  236518.311158  0.628090  0.113672   \n",
       "97           0.105647      0.830444  207071.724844  0.637654  0.640695   \n",
       "98           0.063568      0.633051  229978.560628  0.869227  0.207618   \n",
       "99           0.132469      0.816290  251547.616010  0.421156  0.097561   \n",
       "\n",
       "         instrumentalness       key  liveness   loudness      mode  \\\n",
       "cluster                                                              \n",
       "0                0.025320  5.197262  0.232673 -12.026784  0.714686   \n",
       "1                0.015598  5.143993  0.164735 -13.857677  0.778269   \n",
       "2                0.867526  5.163504  0.140081 -20.389153  0.696350   \n",
       "3                0.008818  5.230403  0.206211  -6.597399  0.726007   \n",
       "4                0.009918  5.210737  0.171917  -9.395978  0.769231   \n",
       "...                   ...       ...       ...        ...       ...   \n",
       "95               0.010452  5.266979  0.197028 -10.683892  0.800000   \n",
       "96               0.009158  5.140911  0.226767  -6.717721  0.734940   \n",
       "97               0.005035  5.269368  0.159931  -6.072154  0.562778   \n",
       "98               0.009253  5.391974  0.219167  -4.755484  0.672870   \n",
       "99               0.022452  5.451532  0.136586 -14.069237  0.639775   \n",
       "\n",
       "         popularity  speechiness       tempo   valence         year  \n",
       "cluster                                                              \n",
       "0          1.653391     0.085871  111.127671  0.560166  1941.625700  \n",
       "1         53.428445     0.047094  114.636896  0.446457  1970.696996  \n",
       "2          3.512409     0.082174  108.276896  0.534906  1945.135766  \n",
       "3         46.687912     0.076792  126.376463  0.466723  2004.106960  \n",
       "4         45.755208     0.058961  118.069600  0.486496  2000.059295  \n",
       "...             ...          ...         ...       ...          ...  \n",
       "95        39.210304     0.060404  120.077292  0.496733  1994.243560  \n",
       "96        52.371399     0.099535  125.264412  0.504618  2005.716082  \n",
       "97        67.158504     0.159646  119.978750  0.564093  2015.142030  \n",
       "98        46.696714     0.096222  120.505462  0.646171  2004.732480  \n",
       "99        38.606629     0.120480  113.647882  0.741218  1986.033771  \n",
       "\n",
       "[100 rows x 15 columns]"
      ]
     },
     "execution_count": 11,
     "metadata": {},
     "output_type": "execute_result"
    }
   ],
   "source": [
    "df.groupby('cluster').mean()"
   ]
  },
  {
   "cell_type": "code",
   "execution_count": 12,
   "metadata": {},
   "outputs": [
    {
     "data": {
      "image/png": "[encoded data removed]",
      "text/plain": [
       "<Figure size 432x288 with 1 Axes>"
      ]
     },
     "metadata": {
      "needs_background": "light"
     },
     "output_type": "display_data"
    }
   ],
   "source": [
    "x = plt.bar([i for i in range(1, clusterNum+1)], df.cluster.value_counts())"
   ]
  },
  {
   "cell_type": "code",
   "execution_count": 13,
   "metadata": {},
   "outputs": [],
   "source": [
    "df.to_csv('song_cluster.csv', index=False)"
   ]
  }
 ],
 "metadata": {
  "kernelspec": {
   "display_name": "Python 3",
   "language": "python",
   "name": "python3"
  },
  "language_info": {
   "codemirror_mode": {
    "name": "ipython",
    "version": 3
   },
   "file_extension": ".py",
   "mimetype": "text/x-python",
   "name": "python",
   "nbconvert_exporter": "python",
   "pygments_lexer": "ipython3",
   "version": "3.7.6"
  }
 },
 "nbformat": 4,
 "nbformat_minor": 4
}
